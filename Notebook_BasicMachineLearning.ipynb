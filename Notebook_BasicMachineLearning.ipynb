{
  "nbformat": 4,
  "nbformat_minor": 0,
  "metadata": {
    "colab": {
      "name": "Notebook_BasicMachineLearning",
      "provenance": [],
      "collapsed_sections": []
    },
    "kernelspec": {
      "name": "python3",
      "display_name": "Python 3"
    }
  },
  "cells": [
    {
      "cell_type": "markdown",
      "metadata": {
        "id": "8H7YaE-VuMon",
        "colab_type": "text"
      },
      "source": [
        "# **Basic Machine Learning Pipeline for Binary classification**\n",
        "\n",
        "**Dataset used:** Customised APS Failure at Scania Truck\n",
        "\n",
        "**Major Challenges:** Missing Data, Class Imbalance\n",
        "\n",
        "**Models used:** Logistic Regression, SVM, RandomForest, XGBoost\n"
      ]
    },
    {
      "cell_type": "markdown",
      "metadata": {
        "id": "W4dKaYGducCa",
        "colab_type": "text"
      },
      "source": [
        "### **Logistic Regression**\n"
      ]
    },
    {
      "cell_type": "code",
      "metadata": {
        "id": "JCyEKzqhuL7S",
        "colab_type": "code",
        "colab": {}
      },
      "source": [
        "#Libraries\n",
        "import numpy as np\n",
        "import pandas as pd\n",
        "\n",
        "#Preprocessing\n",
        "from sklearn.impute import SimpleImputer\n",
        "from sklearn.preprocessing import StandardScaler\n",
        "from sklearn.preprocessing import RobustScaler\n",
        "from sklearn.model_selection import RandomizedSearchCV\n",
        "from sklearn.model_selection import GridSearchCV \n",
        "from sklearn.decomposition import PCA\n",
        "from sklearn.metrics import confusion_matrix\n",
        "from sklearn.feature_selection import VarianceThreshold\n",
        "from sklearn.model_selection import cross_val_score\n",
        "from sklearn.metrics import make_scorer\n",
        "\n",
        "#Splitting\n",
        "from sklearn.model_selection import train_test_split\n",
        "\n",
        "#Training Model\n",
        "from sklearn.svm import SVC\n",
        "from sklearn.pipeline import Pipeline\n",
        "from sklearn.linear_model import LogisticRegression"
      ],
      "execution_count": null,
      "outputs": []
    },
    {
      "cell_type": "code",
      "metadata": {
        "id": "XSRfgARvuweL",
        "colab_type": "code",
        "colab": {}
      },
      "source": [
        "#costMetric\n",
        "def cost(y_test,y_pred):\n",
        "    tn, fp, fn, tp = confusion_matrix(y_test, y_pred).ravel()\n",
        "    #return (100*fp/(tn+fp+fn+tp) + 3500*fn/(tn+fp+fn+tp))\n",
        "    \n",
        "    return (100*fp + 3500*fn)\n",
        "\n",
        "cost_score = make_scorer((cost), greater_is_better=False)"
      ],
      "execution_count": null,
      "outputs": []
    },
    {
      "cell_type": "code",
      "metadata": {
        "id": "2OhNOfU4uxTa",
        "colab_type": "code",
        "colab": {
          "base_uri": "https://localhost:8080/",
          "height": 34
        },
        "outputId": "f6a82ec1-be73-4e67-b184-89de5dff212b"
      },
      "source": [
        "#reading dataset using pandas\n",
        "df = pd.read_csv('aps_failure_train.csv')\n",
        "y = df['class']\n",
        "X = df.drop('class', axis = 1)\n",
        "#Test_data\n",
        "df_test = pd.read_csv('aps_failure_test.csv')\n",
        "x_test = df_test.drop('class', axis = 1)\n",
        "X.shape"
      ],
      "execution_count": null,
      "outputs": [
        {
          "output_type": "execute_result",
          "data": {
            "text/plain": [
              "(57000, 170)"
            ]
          },
          "metadata": {
            "tags": []
          },
          "execution_count": 3
        }
      ]
    },
    {
      "cell_type": "code",
      "metadata": {
        "id": "zsOdpjWDu1Sl",
        "colab_type": "code",
        "colab": {}
      },
      "source": [
        "imp = SimpleImputer(missing_values= np.nan, strategy='mean')\n",
        "X = imp.fit_transform(X)\n",
        "x_test = imp.transform(x_test)"
      ],
      "execution_count": null,
      "outputs": []
    },
    {
      "cell_type": "code",
      "metadata": {
        "id": "vWjio_FAu5PI",
        "colab_type": "code",
        "colab": {}
      },
      "source": [
        "Scaler = StandardScaler()\n",
        "X = Scaler.fit_transform(X)\n",
        "x_test=Scaler.transform(x_test)"
      ],
      "execution_count": null,
      "outputs": []
    },
    {
      "cell_type": "code",
      "metadata": {
        "id": "mBQbl4zBvEoO",
        "colab_type": "code",
        "colab": {}
      },
      "source": [
        "pca = PCA(n_components = 100)\n",
        "X = pca.fit_transform(X);\n",
        "x_test = pca.transform(x_test)"
      ],
      "execution_count": null,
      "outputs": []
    },
    {
      "cell_type": "code",
      "metadata": {
        "id": "OZ0-s1rCvH8P",
        "colab_type": "code",
        "colab": {}
      },
      "source": [
        "#Splitting Dataset in stratified training and test data\n",
        "X_train,  X_val,y_train, y_val = train_test_split(X,y,test_size = 0.2, stratify=y)"
      ],
      "execution_count": null,
      "outputs": []
    },
    {
      "cell_type": "code",
      "metadata": {
        "id": "OtE9cq36vOzf",
        "colab_type": "code",
        "colab": {
          "base_uri": "https://localhost:8080/",
          "height": 51
        },
        "outputId": "adfcbd2c-6a9e-4cdd-f1a3-facf40828047"
      },
      "source": [
        "Logreg = LogisticRegression(random_state=9, solver='newton-cg', C = 0.1, penalty = 'l2')\n",
        "Logreg.fit(X_train,y_train)\n",
        "#cross_val_score(Logreg, X_train,y_train,scoring = cost_score,cv=10,verbose=3)\n",
        "y_pred = Logreg.predict(X_val)\n",
        "print(confusion_matrix(y_val,y_pred))"
      ],
      "execution_count": null,
      "outputs": [
        {
          "output_type": "stream",
          "text": [
            "[[11157    37]\n",
            " [   80   126]]\n"
          ],
          "name": "stdout"
        }
      ]
    },
    {
      "cell_type": "code",
      "metadata": {
        "id": "mf0JH-luvT4_",
        "colab_type": "code",
        "colab": {
          "base_uri": "https://localhost:8080/",
          "height": 34
        },
        "outputId": "501b7372-081c-4bff-e95f-bf47f2e7955b"
      },
      "source": [
        "#Used newton-cg because lbfgs did not converge. IT is similar to newton-cg which is more expensive due to computation of \n",
        "#inverse of Hessian Matrix. In contrast, lbfgs uses approximated inverse but fails to converse. \n",
        "logreg_train = LogisticRegression(random_state=8, solver='newton-cg', C = 0.1, penalty = 'l2')\n",
        "logreg_train.fit(X,y)\n",
        "y_pred_fin = logreg_train.predict(x_test)\n",
        "np.size(y_pred_fin)"
      ],
      "execution_count": null,
      "outputs": [
        {
          "output_type": "execute_result",
          "data": {
            "text/plain": [
              "19000"
            ]
          },
          "metadata": {
            "tags": []
          },
          "execution_count": 9
        }
      ]
    },
    {
      "cell_type": "code",
      "metadata": {
        "id": "RcwodMwWvbOh",
        "colab_type": "code",
        "colab": {}
      },
      "source": [
        "ID = np.linspace(1,19000,19000)\n",
        "pd.DataFrame(y_pred_fin,ID, columns=['predictions']).to_csv('prediction.csv')"
      ],
      "execution_count": null,
      "outputs": []
    },
    {
      "cell_type": "markdown",
      "metadata": {
        "id": "0TJru3kEvhzD",
        "colab_type": "text"
      },
      "source": [
        "### **Support Vector Machine**\n",
        "\n"
      ]
    },
    {
      "cell_type": "code",
      "metadata": {
        "id": "66k6AWXDvna5",
        "colab_type": "code",
        "colab": {}
      },
      "source": [
        "#Regular old\n",
        "import numpy as np\n",
        "import pandas as pd\n",
        "\n",
        "#Preprocessing\n",
        "from sklearn.impute import SimpleImputer\n",
        "from sklearn.preprocessing import StandardScaler\n",
        "from sklearn.preprocessing import RobustScaler\n",
        "from sklearn.model_selection import RandomizedSearchCV\n",
        "from sklearn.model_selection import GridSearchCV \n",
        "from sklearn.decomposition import PCA\n",
        "from sklearn.metrics import confusion_matrix\n",
        "\n",
        "from sklearn.feature_selection import VarianceThreshold\n",
        "from sklearn.model_selection import cross_val_score\n",
        "from sklearn.metrics import make_scorer\n",
        "from sklearn.preprocessing import KBinsDiscretizer\n",
        "from sklearn.preprocessing import MinMaxScaler\n",
        "from sklearn.feature_selection import SelectKBest\n",
        "from sklearn.feature_selection import f_classif\n",
        "\n",
        "#Splitting\n",
        "from sklearn.model_selection import train_test_split\n",
        "\n",
        "#Training Model\n",
        "from sklearn.svm import SVC\n",
        "from sklearn.pipeline import Pipeline\n",
        "from sklearn.linear_model import LogisticRegression\n",
        "from sklearn.ensemble import RandomForestClassifier\n",
        "\n",
        "#Upsampling\n",
        "from imblearn.over_sampling import SMOTE \n",
        "import matplotlib.pyplot as plt\n",
        "from collections import Counter"
      ],
      "execution_count": null,
      "outputs": []
    },
    {
      "cell_type": "code",
      "metadata": {
        "id": "bHxcF-DLvxjq",
        "colab_type": "code",
        "colab": {}
      },
      "source": [
        "#costMetric\n",
        "def cost(y_test,y_pred):\n",
        "    tn, fp, fn, tp = confusion_matrix(y_test, y_pred).ravel()\n",
        "    #return (100*fp/(tn+fp+fn+tp) + 3500*fn/(tn+fp+fn+tp))\n",
        "    \n",
        "    return (100*fp + 3500*fn)\n",
        "\n",
        "cost_score = make_scorer((cost), greater_is_better=False)"
      ],
      "execution_count": null,
      "outputs": []
    },
    {
      "cell_type": "code",
      "metadata": {
        "id": "6lr3f9F4v28L",
        "colab_type": "code",
        "colab": {
          "base_uri": "https://localhost:8080/",
          "height": 34
        },
        "outputId": "1caf7350-d587-4feb-9460-c2f44d1e8837"
      },
      "source": [
        "#reading dataset using pandas\n",
        "df = pd.read_csv('aps_failure_train.csv')\n",
        "y = df['class']\n",
        "X = df.drop('class', axis = 1)\n",
        "#Test_data\n",
        "df_test = pd.read_csv('aps_failure_test.csv')\n",
        "x_test = df_test.drop('class', axis = 1)\n",
        "X.shape"
      ],
      "execution_count": null,
      "outputs": [
        {
          "output_type": "execute_result",
          "data": {
            "text/plain": [
              "(57000, 170)"
            ]
          },
          "metadata": {
            "tags": []
          },
          "execution_count": 5
        }
      ]
    },
    {
      "cell_type": "code",
      "metadata": {
        "id": "cbcvJeLcv8ab",
        "colab_type": "code",
        "colab": {}
      },
      "source": [
        "imp = SimpleImputer(missing_values= np.nan, strategy='mean')\n",
        "X_imp = imp.fit_transform(X)\n",
        "x_test_imp = imp.transform(x_test)"
      ],
      "execution_count": null,
      "outputs": []
    },
    {
      "cell_type": "code",
      "metadata": {
        "id": "RKTv3suXv_lw",
        "colab_type": "code",
        "colab": {}
      },
      "source": [
        "Scaler = StandardScaler()\n",
        "X_scal = Scaler.fit_transform(X_imp)\n",
        "x_test_scal=Scaler.transform(x_test_imp)"
      ],
      "execution_count": null,
      "outputs": []
    },
    {
      "cell_type": "code",
      "metadata": {
        "id": "rQeSYXjdwAUU",
        "colab_type": "code",
        "colab": {}
      },
      "source": [
        "pca = PCA(n_components = 100)\n",
        "X_pca = pca.fit_transform(X_scal);\n",
        "x_test_pca = pca.transform(x_test_scal)"
      ],
      "execution_count": null,
      "outputs": []
    },
    {
      "cell_type": "code",
      "metadata": {
        "id": "ZnFU2e9rwEpK",
        "colab_type": "code",
        "colab": {
          "base_uri": "https://localhost:8080/",
          "height": 68
        },
        "outputId": "5059f7b7-67bf-4f3c-a219-3c14cd974cbe"
      },
      "source": [
        "print('Original dataset shape %s' % Counter(y))\n",
        "sm = SMOTE(random_state=42)\n",
        "X_b, y_b = sm.fit_resample(X_pca, y)\n",
        "print('Resampled dataset shape %s' % Counter(y_b))\n",
        "print(np.size(y))"
      ],
      "execution_count": null,
      "outputs": [
        {
          "output_type": "stream",
          "text": [
            "Original dataset shape Counter({False: 55968, True: 1032})\n",
            "Resampled dataset shape Counter({False: 55968, True: 55968})\n",
            "57000\n"
          ],
          "name": "stdout"
        }
      ]
    },
    {
      "cell_type": "code",
      "metadata": {
        "id": "8khGfwawwJIF",
        "colab_type": "code",
        "colab": {}
      },
      "source": [
        "#Splitting Dataset in stratified training and test data\n",
        "X_train,  X_val,y_train, y_val = train_test_split(X_b,y_b,test_size = 0.2, stratify=y_b)"
      ],
      "execution_count": null,
      "outputs": []
    },
    {
      "cell_type": "code",
      "metadata": {
        "id": "Ww132JXrwPWi",
        "colab_type": "code",
        "colab": {}
      },
      "source": [
        "#SupportVectorMachine\n",
        "svm = SVC()\n",
        "param_grid = {'C': [0.001, 0.01, 0.1, 1, 10],\n",
        " 'gamma': [0.001, 0.01, 0.1, 1],\n",
        "    'kernel': ['rbf', 'linear']}\n",
        "Rf_grid = GridSearchCV(svm, param_grid, verbose = 3,scoring = cost_score,cv=5)\n",
        "#cross_val_score(Rf, X_train,y_train,scoring = cost_score,cv=10,verbose=3)\n",
        "Rf_grid.fit(X_train,y_train)\n",
        "Rf_grid.best_params_"
      ],
      "execution_count": null,
      "outputs": []
    },
    {
      "cell_type": "code",
      "metadata": {
        "id": "dsmVvK3pwYjS",
        "colab_type": "code",
        "colab": {
          "base_uri": "https://localhost:8080/",
          "height": 34
        },
        "outputId": "621537bf-e4d0-4d3e-b305-3195cbc5628b"
      },
      "source": [
        "#SVM\n",
        "svm= SVC(gamma = 0.1, C=10, verbose = 3,kernel = 'rbf')\n",
        "svm.fit(X_train,y_train)\n",
        "y_pred_fin = svm.predict(X_val)"
      ],
      "execution_count": null,
      "outputs": [
        {
          "output_type": "stream",
          "text": [
            "[LibSVM]"
          ],
          "name": "stdout"
        }
      ]
    },
    {
      "cell_type": "code",
      "metadata": {
        "id": "H83Oje4FOjWo",
        "colab_type": "code",
        "colab": {
          "base_uri": "https://localhost:8080/",
          "height": 51
        },
        "outputId": "8ca3c8bc-9fbd-48ea-e64b-af6537c8073f"
      },
      "source": [
        "print(confusion_matrix(y_val,y_pred_fin))"
      ],
      "execution_count": null,
      "outputs": [
        {
          "output_type": "stream",
          "text": [
            "[[10341   853] \n",
            " [   91   11103]]\n"
          ],
          "name": "stdout"
        }
      ]
    },
    {
      "cell_type": "code",
      "metadata": {
        "id": "T5ltPqapwbnE",
        "colab_type": "code",
        "colab": {}
      },
      "source": [
        "svm_fin= SVC(gamma = 0.1, C=10, verbose = 3,kernel = 'rbf')\n",
        "svm_fin.fit(X_b,y_b)"
      ],
      "execution_count": null,
      "outputs": []
    },
    {
      "cell_type": "code",
      "metadata": {
        "id": "QLYKQvnuwg1K",
        "colab_type": "code",
        "colab": {}
      },
      "source": [
        "y_pred_fin = svm_fin.predict(x_test_pca)\n",
        "ID = np.linspace(1,19000,19000)\n",
        "pd.DataFrame(y_pred_fin,ID, columns=['predictions']).to_csv('prediction.csv')"
      ],
      "execution_count": null,
      "outputs": []
    },
    {
      "cell_type": "markdown",
      "metadata": {
        "id": "bH8H6fG3wroY",
        "colab_type": "text"
      },
      "source": [
        "### **Random Forest**\n",
        "\n"
      ]
    },
    {
      "cell_type": "code",
      "metadata": {
        "id": "OgsRVoBGw3GB",
        "colab_type": "code",
        "colab": {
          "base_uri": "https://localhost:8080/",
          "height": 71
        },
        "outputId": "fb5c266d-5397-4ba0-87ed-b357fc122a83"
      },
      "source": [
        "#Regular old\n",
        "import numpy as np\n",
        "import pandas as pd\n",
        "\n",
        "#Preprocessing\n",
        "from sklearn.impute import SimpleImputer\n",
        "from sklearn.preprocessing import StandardScaler\n",
        "from sklearn.preprocessing import RobustScaler\n",
        "from sklearn.model_selection import RandomizedSearchCV\n",
        "from sklearn.model_selection import GridSearchCV \n",
        "from sklearn.decomposition import PCA\n",
        "from sklearn.metrics import confusion_matrix\n",
        "\n",
        "from sklearn.feature_selection import VarianceThreshold\n",
        "from sklearn.model_selection import cross_val_score\n",
        "from sklearn.metrics import make_scorer\n",
        "from sklearn.preprocessing import KBinsDiscretizer\n",
        "from sklearn.preprocessing import MinMaxScaler\n",
        "from sklearn.feature_selection import SelectKBest\n",
        "from sklearn.feature_selection import f_classif\n",
        "\n",
        "#Splitting\n",
        "from sklearn.model_selection import train_test_split\n",
        "\n",
        "#Training Model\n",
        "from sklearn.svm import SVC\n",
        "from sklearn.pipeline import Pipeline\n",
        "from sklearn.linear_model import LogisticRegression\n",
        "from sklearn.ensemble import RandomForestClassifier\n",
        "\n",
        "#Upsampling\n",
        "from imblearn.over_sampling import SMOTE \n",
        "import matplotlib.pyplot as plt\n",
        "from collections import Counter"
      ],
      "execution_count": null,
      "outputs": [
        {
          "output_type": "stream",
          "text": [
            "/usr/local/lib/python3.6/dist-packages/sklearn/externals/six.py:31: DeprecationWarning: The module is deprecated in version 0.21 and will be removed in version 0.23 since we've dropped support for Python 2.7. Please rely on the official version of six (https://pypi.org/project/six/).\n",
            "  \"(https://pypi.org/project/six/).\", DeprecationWarning)\n"
          ],
          "name": "stderr"
        }
      ]
    },
    {
      "cell_type": "code",
      "metadata": {
        "id": "WCcYQ-MSw4gD",
        "colab_type": "code",
        "colab": {}
      },
      "source": [
        "#costMetric\n",
        "def cost(y_test,y_pred):\n",
        "    tn, fp, fn, tp = confusion_matrix(y_test, y_pred).ravel()\n",
        "    \n",
        "    return (100*fp + 3500*fn)\n",
        "\n",
        "cost_score = make_scorer((cost), greater_is_better=False)"
      ],
      "execution_count": null,
      "outputs": []
    },
    {
      "cell_type": "code",
      "metadata": {
        "id": "TtKxI8Crxo8L",
        "colab_type": "code",
        "colab": {
          "base_uri": "https://localhost:8080/",
          "height": 34
        },
        "outputId": "bb702aa3-d1c9-4c18-e7f5-b81050c5d1cc"
      },
      "source": [
        "#reading dataset using pandas\n",
        "df = pd.read_csv('aps_failure_train.csv')\n",
        "y = df['class']\n",
        "X = df.drop('class', axis = 1)\n",
        "#Test_data\n",
        "df_test = pd.read_csv('aps_failure_test.csv')\n",
        "x_test = df_test.drop('class', axis = 1)\n",
        "X.shape"
      ],
      "execution_count": null,
      "outputs": [
        {
          "output_type": "execute_result",
          "data": {
            "text/plain": [
              "(57000, 170)"
            ]
          },
          "metadata": {
            "tags": []
          },
          "execution_count": 6
        }
      ]
    },
    {
      "cell_type": "code",
      "metadata": {
        "id": "_jxJyjwkxsXv",
        "colab_type": "code",
        "colab": {}
      },
      "source": [
        "imp = SimpleImputer(missing_values= np.nan, strategy='mean')\n",
        "X_imp = imp.fit_transform(X)\n",
        "x_test_imp = imp.transform(x_test)"
      ],
      "execution_count": null,
      "outputs": []
    },
    {
      "cell_type": "code",
      "metadata": {
        "id": "3WatBW8cxu2B",
        "colab_type": "code",
        "colab": {}
      },
      "source": [
        "Scaler = StandardScaler()\n",
        "X_scal = Scaler.fit_transform(X_imp)\n",
        "x_test_scal=Scaler.transform(x_test_imp)"
      ],
      "execution_count": null,
      "outputs": []
    },
    {
      "cell_type": "code",
      "metadata": {
        "id": "238npbuzx_nR",
        "colab_type": "code",
        "colab": {
          "base_uri": "https://localhost:8080/",
          "height": 34
        },
        "outputId": "53b6753d-a238-4730-df06-f33eff61e25e"
      },
      "source": [
        "pca = PCA(n_components = 100)\n",
        "X_pca = pca.fit_transform(X_scal);\n",
        "x_test_pca = pca.transform(x_test_scal)\n",
        "#explains 97.74 percent of the data\n",
        "mp = abs( pca.components_ )\n",
        "np.size(mp)\n",
        "np.sum(pca.explained_variance_ratio_)"
      ],
      "execution_count": null,
      "outputs": [
        {
          "output_type": "execute_result",
          "data": {
            "text/plain": [
              "0.9775041677717252"
            ]
          },
          "metadata": {
            "tags": []
          },
          "execution_count": 9
        }
      ]
    },
    {
      "cell_type": "code",
      "metadata": {
        "id": "Uk4aq5RXymOJ",
        "colab_type": "code",
        "colab": {
          "base_uri": "https://localhost:8080/",
          "height": 68
        },
        "outputId": "b617183c-cd24-4940-e983-0f320e1c2100"
      },
      "source": [
        "print('Original dataset shape %s' % Counter(y))\n",
        "sm = SMOTE(random_state=42)\n",
        "X_b, y_b = sm.fit_resample(X_scal, y)\n",
        "print('Resampled dataset shape %s' % Counter(y_b))\n",
        "print(np.size(y))"
      ],
      "execution_count": null,
      "outputs": [
        {
          "output_type": "stream",
          "text": [
            "Original dataset shape Counter({False: 55968, True: 1032})\n",
            "Resampled dataset shape Counter({False: 55968, True: 55968})\n",
            "57000\n"
          ],
          "name": "stdout"
        }
      ]
    },
    {
      "cell_type": "code",
      "metadata": {
        "id": "D4ixWbD-yeQO",
        "colab_type": "code",
        "colab": {
          "base_uri": "https://localhost:8080/",
          "height": 51
        },
        "outputId": "d098d3b1-f04a-4b78-c5a1-029433a9de06"
      },
      "source": [
        "disc = KBinsDiscretizer(n_bins=7, encode='onehot', \n",
        "                        strategy='uniform')\n",
        "X_kb = disc.fit_transform(X_b)\n",
        "x_test_kb = disc.transform(x_test_scal)"
      ],
      "execution_count": null,
      "outputs": [
        {
          "output_type": "stream",
          "text": [
            "/usr/local/lib/python3.6/dist-packages/sklearn/preprocessing/_discretization.py:159: UserWarning: Feature 89 is constant and will be replaced with 0.\n",
            "  \"replaced with 0.\" % jj)\n"
          ],
          "name": "stderr"
        }
      ]
    },
    {
      "cell_type": "code",
      "metadata": {
        "id": "AsgOWlhMzP3M",
        "colab_type": "code",
        "colab": {}
      },
      "source": [
        "#Splitting Dataset in stratified training and test data\n",
        "X_train,  X_val,y_train, y_val = train_test_split(X_kb,y_b,test_size = 0.2, stratify=y_b)"
      ],
      "execution_count": null,
      "outputs": []
    },
    {
      "cell_type": "code",
      "metadata": {
        "id": "4r-zJx3WzY2t",
        "colab_type": "code",
        "colab": {}
      },
      "source": [
        "#Random Forest\n",
        "Rf = RandomForestClassifier()\n",
        "param_grid = {'max_depth': [50, 60, 70, 80, 90, 100, None],\n",
        " 'max_features': ['auto', 'sqrt'],\n",
        " 'min_samples_leaf': [1, 2, 4],\n",
        " 'min_samples_split': [2, 5, 10],\n",
        "'n_estimators':[50,100]}\n",
        "Rf_grid = GridSearchCV(Rf, param_grid, verbose = 3,scoring = cost_score,cv=5)\n",
        "#cross_val_score(Rf, X_train,y_train,scoring = cost_score,cv=10,verbose=3)\n",
        "Rf_grid.fit(X_train,y_train)"
      ],
      "execution_count": null,
      "outputs": []
    },
    {
      "cell_type": "code",
      "metadata": {
        "id": "TwKeqVvHzb8Y",
        "colab_type": "code",
        "colab": {}
      },
      "source": [
        "Rf_grid.best_params_"
      ],
      "execution_count": null,
      "outputs": []
    },
    {
      "cell_type": "code",
      "metadata": {
        "id": "TSet4xBSziJm",
        "colab_type": "code",
        "colab": {
          "base_uri": "https://localhost:8080/",
          "height": 1000
        },
        "outputId": "34bea668-3dc7-4553-dea9-70e2f367810d"
      },
      "source": [
        "rf_train = RandomForestClassifier(n_estimators=50, verbose = 3,min_samples_leaf =1, min_samples_split =2, max_depth = None)\n",
        "rf_train.fit(X_train,y_train)\n",
        "y_pred_fin = rf_train.predict(X_val)\n",
        "print(confusion_matrix(y_val,y_pred_fin))"
      ],
      "execution_count": null,
      "outputs": [
        {
          "output_type": "stream",
          "text": [
            "[Parallel(n_jobs=1)]: Using backend SequentialBackend with 1 concurrent workers.\n"
          ],
          "name": "stderr"
        },
        {
          "output_type": "stream",
          "text": [
            "building tree 1 of 50\n"
          ],
          "name": "stdout"
        },
        {
          "output_type": "stream",
          "text": [
            "[Parallel(n_jobs=1)]: Done   1 out of   1 | elapsed:    2.0s remaining:    0.0s\n"
          ],
          "name": "stderr"
        },
        {
          "output_type": "stream",
          "text": [
            "building tree 2 of 50\n"
          ],
          "name": "stdout"
        },
        {
          "output_type": "stream",
          "text": [
            "[Parallel(n_jobs=1)]: Done   2 out of   2 | elapsed:    4.1s remaining:    0.0s\n"
          ],
          "name": "stderr"
        },
        {
          "output_type": "stream",
          "text": [
            "building tree 3 of 50\n",
            "building tree 4 of 50\n",
            "building tree 5 of 50\n",
            "building tree 6 of 50\n",
            "building tree 7 of 50\n",
            "building tree 8 of 50\n",
            "building tree 9 of 50\n",
            "building tree 10 of 50\n",
            "building tree 11 of 50\n",
            "building tree 12 of 50\n",
            "building tree 13 of 50\n",
            "building tree 14 of 50\n",
            "building tree 15 of 50\n",
            "building tree 16 of 50\n",
            "building tree 17 of 50\n",
            "building tree 18 of 50\n",
            "building tree 19 of 50\n",
            "building tree 20 of 50\n",
            "building tree 21 of 50\n",
            "building tree 22 of 50\n",
            "building tree 23 of 50\n",
            "building tree 24 of 50\n",
            "building tree 25 of 50\n",
            "building tree 26 of 50\n",
            "building tree 27 of 50\n",
            "building tree 28 of 50\n",
            "building tree 29 of 50\n",
            "building tree 30 of 50\n",
            "building tree 31 of 50\n",
            "building tree 32 of 50\n",
            "building tree 33 of 50\n",
            "building tree 34 of 50\n",
            "building tree 35 of 50\n",
            "building tree 36 of 50\n",
            "building tree 37 of 50\n",
            "building tree 38 of 50\n",
            "building tree 39 of 50\n",
            "building tree 40 of 50\n",
            "building tree 41 of 50\n",
            "building tree 42 of 50\n",
            "building tree 43 of 50\n",
            "building tree 44 of 50\n",
            "building tree 45 of 50\n",
            "building tree 46 of 50\n",
            "building tree 47 of 50\n",
            "building tree 48 of 50\n",
            "building tree 49 of 50\n",
            "building tree 50 of 50\n"
          ],
          "name": "stdout"
        },
        {
          "output_type": "stream",
          "text": [
            "[Parallel(n_jobs=1)]: Done  50 out of  50 | elapsed:  1.8min finished\n",
            "[Parallel(n_jobs=1)]: Using backend SequentialBackend with 1 concurrent workers.\n",
            "[Parallel(n_jobs=1)]: Done   1 out of   1 | elapsed:    0.0s remaining:    0.0s\n",
            "[Parallel(n_jobs=1)]: Done   2 out of   2 | elapsed:    0.0s remaining:    0.0s\n"
          ],
          "name": "stderr"
        },
        {
          "output_type": "stream",
          "text": [
            "[[10843   351]\n",
            " [  245 10949]]\n"
          ],
          "name": "stdout"
        },
        {
          "output_type": "stream",
          "text": [
            "[Parallel(n_jobs=1)]: Done  50 out of  50 | elapsed:    0.5s finished\n"
          ],
          "name": "stderr"
        }
      ]
    },
    {
      "cell_type": "code",
      "metadata": {
        "id": "th4USo6DzqbT",
        "colab_type": "code",
        "colab": {
          "base_uri": "https://localhost:8080/",
          "height": 1000
        },
        "outputId": "2d625d15-187e-46a8-b515-6db13d95346f"
      },
      "source": [
        "rf_final = RandomForestClassifier(n_estimators=50, verbose = 3,min_samples_leaf =1, min_samples_split =2, max_depth = None)\n",
        "rf_final.fit(X_b,y_b)"
      ],
      "execution_count": null,
      "outputs": [
        {
          "output_type": "stream",
          "text": [
            "[Parallel(n_jobs=1)]: Using backend SequentialBackend with 1 concurrent workers.\n"
          ],
          "name": "stderr"
        },
        {
          "output_type": "stream",
          "text": [
            "building tree 1 of 50\n"
          ],
          "name": "stdout"
        },
        {
          "output_type": "stream",
          "text": [
            "[Parallel(n_jobs=1)]: Done   1 out of   1 | elapsed:    1.7s remaining:    0.0s\n"
          ],
          "name": "stderr"
        },
        {
          "output_type": "stream",
          "text": [
            "building tree 2 of 50\n"
          ],
          "name": "stdout"
        },
        {
          "output_type": "stream",
          "text": [
            "[Parallel(n_jobs=1)]: Done   2 out of   2 | elapsed:    3.2s remaining:    0.0s\n"
          ],
          "name": "stderr"
        },
        {
          "output_type": "stream",
          "text": [
            "building tree 3 of 50\n",
            "building tree 4 of 50\n",
            "building tree 5 of 50\n",
            "building tree 6 of 50\n",
            "building tree 7 of 50\n",
            "building tree 8 of 50\n",
            "building tree 9 of 50\n",
            "building tree 10 of 50\n",
            "building tree 11 of 50\n",
            "building tree 12 of 50\n",
            "building tree 13 of 50\n",
            "building tree 14 of 50\n",
            "building tree 15 of 50\n",
            "building tree 16 of 50\n",
            "building tree 17 of 50\n",
            "building tree 18 of 50\n",
            "building tree 19 of 50\n",
            "building tree 20 of 50\n",
            "building tree 21 of 50\n",
            "building tree 22 of 50\n",
            "building tree 23 of 50\n",
            "building tree 24 of 50\n",
            "building tree 25 of 50\n",
            "building tree 26 of 50\n",
            "building tree 27 of 50\n",
            "building tree 28 of 50\n",
            "building tree 29 of 50\n",
            "building tree 30 of 50\n",
            "building tree 31 of 50\n",
            "building tree 32 of 50\n",
            "building tree 33 of 50\n",
            "building tree 34 of 50\n",
            "building tree 35 of 50\n",
            "building tree 36 of 50\n",
            "building tree 37 of 50\n",
            "building tree 38 of 50\n",
            "building tree 39 of 50\n",
            "building tree 40 of 50\n",
            "building tree 41 of 50\n",
            "building tree 42 of 50\n",
            "building tree 43 of 50\n",
            "building tree 44 of 50\n",
            "building tree 45 of 50\n",
            "building tree 46 of 50\n",
            "building tree 47 of 50\n",
            "building tree 48 of 50\n",
            "building tree 49 of 50\n",
            "building tree 50 of 50\n"
          ],
          "name": "stdout"
        },
        {
          "output_type": "stream",
          "text": [
            "[Parallel(n_jobs=1)]: Done  50 out of  50 | elapsed:  1.4min finished\n"
          ],
          "name": "stderr"
        },
        {
          "output_type": "execute_result",
          "data": {
            "text/plain": [
              "RandomForestClassifier(bootstrap=True, class_weight=None, criterion='gini',\n",
              "                       max_depth=None, max_features='auto', max_leaf_nodes=None,\n",
              "                       min_impurity_decrease=0.0, min_impurity_split=None,\n",
              "                       min_samples_leaf=1, min_samples_split=2,\n",
              "                       min_weight_fraction_leaf=0.0, n_estimators=50,\n",
              "                       n_jobs=None, oob_score=False, random_state=None,\n",
              "                       verbose=3, warm_start=False)"
            ]
          },
          "metadata": {
            "tags": []
          },
          "execution_count": 14
        }
      ]
    },
    {
      "cell_type": "code",
      "metadata": {
        "id": "Cvn1426sz2e3",
        "colab_type": "code",
        "colab": {}
      },
      "source": [
        "y_pred_fin = rf_final.predict(x_test_scal)\n",
        "ID = np.linspace(1,19000,19000)\n",
        "pd.DataFrame(y_pred_fin,ID, columns=['predictions']).to_csv('prediction.csv')"
      ],
      "execution_count": null,
      "outputs": []
    },
    {
      "cell_type": "markdown",
      "metadata": {
        "id": "D6V5pXD10EQ1",
        "colab_type": "text"
      },
      "source": [
        "### **XGBoost**"
      ]
    },
    {
      "cell_type": "code",
      "metadata": {
        "id": "LFfRw1qS0yoN",
        "colab_type": "code",
        "colab": {
          "base_uri": "https://localhost:8080/",
          "height": 71
        },
        "outputId": "76bebadc-5d46-4ce4-858a-409974f66516"
      },
      "source": [
        "#Regular old\n",
        "import numpy as np\n",
        "import pandas as pd\n",
        "\n",
        "#Preprocessing\n",
        "from sklearn.impute import SimpleImputer\n",
        "from sklearn.preprocessing import StandardScaler\n",
        "from sklearn.preprocessing import RobustScaler\n",
        "from sklearn.model_selection import RandomizedSearchCV\n",
        "from sklearn.model_selection import GridSearchCV \n",
        "from sklearn.decomposition import PCA\n",
        "from sklearn.metrics import confusion_matrix\n",
        "\n",
        "from sklearn.feature_selection import VarianceThreshold\n",
        "from sklearn.model_selection import cross_val_score\n",
        "from sklearn.metrics import make_scorer\n",
        "from sklearn.preprocessing import KBinsDiscretizer\n",
        "from sklearn.preprocessing import MinMaxScaler\n",
        "from sklearn.feature_selection import SelectKBest\n",
        "from sklearn.feature_selection import f_classif\n",
        "\n",
        "#Splitting\n",
        "from sklearn.model_selection import train_test_split\n",
        "\n",
        "#Upsampling\n",
        "from imblearn.over_sampling import SMOTE \n",
        "import matplotlib.pyplot as plt\n",
        "from collections import Counter\n",
        "\n",
        "#model\n",
        "import xgboost as xgb"
      ],
      "execution_count": null,
      "outputs": [
        {
          "output_type": "stream",
          "text": [
            "/usr/local/lib/python3.6/dist-packages/sklearn/externals/six.py:31: DeprecationWarning: The module is deprecated in version 0.21 and will be removed in version 0.23 since we've dropped support for Python 2.7. Please rely on the official version of six (https://pypi.org/project/six/).\n",
            "  \"(https://pypi.org/project/six/).\", DeprecationWarning)\n"
          ],
          "name": "stderr"
        }
      ]
    },
    {
      "cell_type": "code",
      "metadata": {
        "id": "uex9aNoP07ZO",
        "colab_type": "code",
        "colab": {}
      },
      "source": [
        "#costMetric\n",
        "def cost(y_test,y_pred):\n",
        "    tn, fp, fn, tp = confusion_matrix(y_test, y_pred).ravel()\n",
        "    #return (100*fp/(tn+fp+fn+tp) + 3500*fn/(tn+fp+fn+tp))\n",
        "    \n",
        "    return (100*fp + 3500*fn)\n",
        "\n",
        "cost_score = make_scorer((cost), greater_is_better=False)"
      ],
      "execution_count": null,
      "outputs": []
    },
    {
      "cell_type": "code",
      "metadata": {
        "id": "L-ZSG0JF1FI6",
        "colab_type": "code",
        "colab": {
          "base_uri": "https://localhost:8080/",
          "height": 34
        },
        "outputId": "9557bb27-3298-4db0-841f-80c92aaeb1dd"
      },
      "source": [
        "#reading dataset using pandas\n",
        "df = pd.read_csv('aps_failure_train.csv')\n",
        "y = df['class']\n",
        "X = df.drop('class', axis = 1)\n",
        "#Test_data\n",
        "df_test = pd.read_csv('aps_failure_test.csv')\n",
        "x_test = df_test.drop('class', axis = 1)\n",
        "X.shape"
      ],
      "execution_count": null,
      "outputs": [
        {
          "output_type": "execute_result",
          "data": {
            "text/plain": [
              "(57000, 170)"
            ]
          },
          "metadata": {
            "tags": []
          },
          "execution_count": 3
        }
      ]
    },
    {
      "cell_type": "code",
      "metadata": {
        "id": "209opFXy1HQL",
        "colab_type": "code",
        "colab": {
          "base_uri": "https://localhost:8080/",
          "height": 85
        },
        "outputId": "4e436f56-a096-4cc4-af9a-bd14c0ffed14"
      },
      "source": [
        "data_dmatrix = xgb.DMatrix(data=X,label=y)\n",
        "test_dmatrix =  xgb.DMatrix(data=x_test)"
      ],
      "execution_count": null,
      "outputs": [
        {
          "output_type": "stream",
          "text": [
            "/usr/local/lib/python3.6/dist-packages/xgboost/core.py:587: FutureWarning: Series.base is deprecated and will be removed in a future version\n",
            "  if getattr(data, 'base', None) is not None and \\\n",
            "/usr/local/lib/python3.6/dist-packages/xgboost/core.py:588: FutureWarning: Series.base is deprecated and will be removed in a future version\n",
            "  data.base is not None and isinstance(data, np.ndarray) \\\n"
          ],
          "name": "stderr"
        }
      ]
    },
    {
      "cell_type": "code",
      "metadata": {
        "id": "wD3YmBdh1N9M",
        "colab_type": "code",
        "colab": {}
      },
      "source": [
        "X_train,  X_val,y_train, y_val = train_test_split(X,y,test_size = 0.2, stratify=y)"
      ],
      "execution_count": null,
      "outputs": []
    },
    {
      "cell_type": "code",
      "metadata": {
        "id": "tzdeaqeD1Qvv",
        "colab_type": "code",
        "colab": {}
      },
      "source": [
        "xg_cl = xgb.XGBClassifier()\n",
        "param_grid = {'n_estimators': [30,50,100,150,200],\n",
        " 'max_depth': [5,10,20,30],\n",
        "    'learning_rate': [0.001]}\n",
        "Rf_grid = GridSearchCV(xg_cl, param_grid, verbose = 3,scoring = cost_score,cv=5)\n",
        "Rf_grid.fit(X_train,y_train)\n",
        "Rf_grid.best_params"
      ],
      "execution_count": null,
      "outputs": []
    },
    {
      "cell_type": "code",
      "metadata": {
        "id": "Uz-aIjF81RgK",
        "colab_type": "code",
        "colab": {
          "base_uri": "https://localhost:8080/",
          "height": 136
        },
        "outputId": "90147285-ae3f-40ef-d723-76114a025463"
      },
      "source": [
        "#cross_val_score(xg_reg, X_train,y_train, cv = 5, verbose=3, scoring = cost_score)\n",
        "xg_reg = xgb.XGBClassifier(n_estimators=100, learning_rate=0.01, gamma= 10,min_child_weight = 10,subsample=0.5,scale_pos_weight = 55)\n",
        "xg_reg.fit(X_train,y_train,eval_metric=cost_score)"
      ],
      "execution_count": null,
      "outputs": [
        {
          "output_type": "execute_result",
          "data": {
            "text/plain": [
              "XGBClassifier(base_score=0.5, booster='gbtree', colsample_bylevel=1,\n",
              "              colsample_bynode=1, colsample_bytree=1, gamma=10,\n",
              "              learning_rate=0.01, max_delta_step=0, max_depth=3,\n",
              "              min_child_weight=10, missing=None, n_estimators=100, n_jobs=1,\n",
              "              nthread=None, objective='binary:logistic', random_state=0,\n",
              "              reg_alpha=0, reg_lambda=1, scale_pos_weight=55, seed=None,\n",
              "              silent=None, subsample=0.5, verbosity=1)"
            ]
          },
          "metadata": {
            "tags": []
          },
          "execution_count": 7
        }
      ]
    },
    {
      "cell_type": "code",
      "metadata": {
        "id": "JAsuvNmF1Vx1",
        "colab_type": "code",
        "colab": {
          "base_uri": "https://localhost:8080/",
          "height": 51
        },
        "outputId": "6b2fbc7f-2f70-4761-81d1-d17276860a98"
      },
      "source": [
        "preds = xg_reg.predict(X_val)\n",
        "print(confusion_matrix(y_val, preds))"
      ],
      "execution_count": null,
      "outputs": [
        {
          "output_type": "stream",
          "text": [
            "[[10640   554]\n",
            " [    8   198]]\n"
          ],
          "name": "stdout"
        }
      ]
    },
    {
      "cell_type": "code",
      "metadata": {
        "id": "vFLqGT2Y1c3B",
        "colab_type": "code",
        "colab": {}
      },
      "source": [
        "xg_fin = xgb.XGBClassifier(n_estimators=100, learning_rate=0.01, gamma= 10,min_child_weight = 10,subsample=0.5,scale_pos_weight = 55)\n",
        "xg_fin.fit(X,y, eval_metric= cost_score)"
      ],
      "execution_count": null,
      "outputs": []
    },
    {
      "cell_type": "code",
      "metadata": {
        "id": "6GK-IJ9p1h6b",
        "colab_type": "code",
        "colab": {}
      },
      "source": [
        "y_pred_fin = xg_fin.predict(x_test)\n",
        "ID = np.linspace(1,19000,19000)\n",
        "pd.DataFrame(y_pred_fin,ID, columns=['predictions']).to_csv('prediction1.csv')\n"
      ],
      "execution_count": null,
      "outputs": []
    },
    {
      "cell_type": "markdown",
      "metadata": {
        "id": "OdIj5jQ03Xo8",
        "colab_type": "text"
      },
      "source": [
        "With different set of parameters:\n",
        "\n",
        "*Score:*\n",
        "\n",
        "*Public Leaderboard: -5.57894*\n",
        "\n",
        "*Private Leaderboard: -8.58947*"
      ]
    },
    {
      "cell_type": "code",
      "metadata": {
        "id": "eEtnrzyU4t1k",
        "colab_type": "code",
        "colab": {
          "base_uri": "https://localhost:8080/",
          "height": 136
        },
        "outputId": "6ad4e08a-ba35-4af9-fb08-5fb33f71d960"
      },
      "source": [
        "#cross_val_score(xg_reg, X_train,y_train, cv = 5, verbose=3, scoring = cost_score)\n",
        "xg_reg = xgb.XGBClassifier(n_estimators=30,learning_rate=0.3,gamma = 20,subsample=0.5,scale_pos_weight =55,max_delta_step=10,seed=42)\n",
        "xg_reg.fit(X_train,y_train,eval_metric=cost_score)"
      ],
      "execution_count": null,
      "outputs": [
        {
          "output_type": "execute_result",
          "data": {
            "text/plain": [
              "XGBClassifier(base_score=0.5, booster='gbtree', colsample_bylevel=1,\n",
              "              colsample_bynode=1, colsample_bytree=1, gamma=20,\n",
              "              learning_rate=0.3, max_delta_step=10, max_depth=3,\n",
              "              min_child_weight=1, missing=None, n_estimators=30, n_jobs=1,\n",
              "              nthread=None, objective='binary:logistic', random_state=0,\n",
              "              reg_alpha=0, reg_lambda=1, scale_pos_weight=55, seed=42,\n",
              "              silent=None, subsample=0.5, verbosity=1)"
            ]
          },
          "metadata": {
            "tags": []
          },
          "execution_count": 9
        }
      ]
    },
    {
      "cell_type": "code",
      "metadata": {
        "id": "1UVxsUk940xW",
        "colab_type": "code",
        "colab": {
          "base_uri": "https://localhost:8080/",
          "height": 34
        },
        "outputId": "5e4e315b-a830-42bd-fbda-7fbddd7be788"
      },
      "source": [
        "preds = xg_reg.predict(X_val)\n",
        "preds"
      ],
      "execution_count": null,
      "outputs": [
        {
          "output_type": "execute_result",
          "data": {
            "text/plain": [
              "array([False, False, False, ..., False, False, False])"
            ]
          },
          "metadata": {
            "tags": []
          },
          "execution_count": 113
        }
      ]
    },
    {
      "cell_type": "code",
      "metadata": {
        "id": "AN8h9zXRubOn",
        "colab_type": "code",
        "colab": {
          "base_uri": "https://localhost:8080/",
          "height": 51
        },
        "outputId": "aa547093-40a3-44a8-8cd1-95415a0a5af9"
      },
      "source": [
        "print(confusion_matrix(y_val, preds))"
      ],
      "execution_count": null,
      "outputs": [
        {
          "output_type": "stream",
          "text": [
            "[[10896   298]\n",
            " [    8   198]]\n"
          ],
          "name": "stdout"
        }
      ]
    },
    {
      "cell_type": "code",
      "metadata": {
        "id": "sUVwb8k3R-7-",
        "colab_type": "code",
        "colab": {}
      },
      "source": [
        "xg_fin = xgb.XGBClassifier(n_estimators=30,learning_rate=0.3,gamma = 20,subsample=0.5,scale_pos_weight =55,max_delta_step=10,seed=42)\n",
        "xg_fin.fit(X,y, eval_metric= cost_score)"
      ],
      "execution_count": null,
      "outputs": []
    },
    {
      "cell_type": "code",
      "metadata": {
        "id": "1JbsWjRB34YL",
        "colab_type": "code",
        "colab": {}
      },
      "source": [
        "y_pred_fin = xg_fin.predict(x_test)\n",
        "ID = np.linspace(1,19000,19000)\n",
        "pd.DataFrame(y_pred_fin,ID, columns=['predictions']).to_csv('prediction1.csv')"
      ],
      "execution_count": null,
      "outputs": []
    },
    {
      "cell_type": "markdown",
      "metadata": {
        "id": "BiSVPzxfTHXf",
        "colab_type": "text"
      },
      "source": [
        "With different set of parameters:\n",
        "Decreasing the learning rate and increase max_delta to encourage more conservative learning. \n",
        "\n",
        "*Score:*\n",
        "\n",
        "*Public Leaderboard: -4.86315\n",
        "\n",
        "*Private Leaderboard: -6.33684"
      ]
    },
    {
      "cell_type": "code",
      "metadata": {
        "id": "28WNyeYbRe7V",
        "colab_type": "code",
        "colab": {
          "base_uri": "https://localhost:8080/",
          "height": 51
        },
        "outputId": "fd9fcedc-f190-437f-feeb-9ebe8379ee69"
      },
      "source": [
        "#cross_val_score(xg_reg, X_train,y_train, cv = 5, verbose=3, scoring = cost_score)\n",
        "xg_reg = xgb.XGBClassifier(n_estimators=120,learning_rate=0.1,gamma = 10,subsample=0.5,scale_pos_weight =55,max_delta_step=10)\n",
        "xg_reg.fit(X_train,y_train,eval_metric=cost_score)\n",
        "preds = xg_reg.predict(X_val)\n",
        "print(confusion_matrix(y_val, preds))"
      ],
      "execution_count": null,
      "outputs": [
        {
          "output_type": "stream",
          "text": [
            "[[10924   270]\n",
            " [    9   197]]\n"
          ],
          "name": "stdout"
        }
      ]
    },
    {
      "cell_type": "code",
      "metadata": {
        "id": "vF4nywAdS9qy",
        "colab_type": "code",
        "colab": {}
      },
      "source": [
        "xg_fin = xgb.XGBClassifier(n_estimators=120,learning_rate=0.1,gamma = 10,subsample=0.5,scale_pos_weight =55,max_delta_step=10)\n",
        "xg_fin.fit(X,y, eval_metric= cost_score)\n",
        "y_pred_fin = xg_fin.predict(x_test)\n",
        "ID = np.linspace(1,19000,19000)\n",
        "pd.DataFrame(y_pred_fin,ID, columns=['predictions']).to_csv('prediction1.csv')"
      ],
      "execution_count": null,
      "outputs": []
    }
  ]
}